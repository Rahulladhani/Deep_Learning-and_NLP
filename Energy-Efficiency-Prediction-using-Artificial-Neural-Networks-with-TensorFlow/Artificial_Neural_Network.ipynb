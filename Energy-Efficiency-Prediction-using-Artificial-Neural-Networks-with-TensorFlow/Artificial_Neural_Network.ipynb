{
  "nbformat": 4,
  "nbformat_minor": 0,
  "metadata": {
    "colab": {
      "provenance": []
    },
    "kernelspec": {
      "name": "python3",
      "display_name": "Python 3"
    }
  },
  "cells": [
    {
      "cell_type": "markdown",
      "metadata": {
        "id": "3cbb7fRy-eyr"
      },
      "source": [
        "#Energy Efficiency Prediction using Artificial Neural Networks with TensorFlow"
      ]
    },
    {
      "cell_type": "markdown",
      "metadata": {
        "id": "8sNDnxE2-pwE"
      },
      "source": [
        "### Importing the libraries"
      ]
    },
    {
      "cell_type": "code",
      "metadata": {
        "id": "lxChR1Rk-umf"
      },
      "source": [
        "import numpy as np\n",
        "import pandas as pd\n",
        "import tensorflow as tf"
      ],
      "execution_count": 4,
      "outputs": []
    },
    {
      "cell_type": "code",
      "metadata": {
        "id": "uBTqR3nacj0e",
        "colab": {
          "base_uri": "https://localhost:8080/",
          "height": 36
        },
        "outputId": "08290bb3-f2f5-4395-d44f-f178faa24e73"
      },
      "source": [
        "tf.__version__"
      ],
      "execution_count": 5,
      "outputs": [
        {
          "output_type": "execute_result",
          "data": {
            "text/plain": [
              "'2.15.0'"
            ],
            "application/vnd.google.colaboratory.intrinsic+json": {
              "type": "string"
            }
          },
          "metadata": {},
          "execution_count": 5
        }
      ]
    },
    {
      "cell_type": "markdown",
      "metadata": {
        "id": "AG3FQEch-yuA"
      },
      "source": [
        "## Part 1 - Data Preprocessing"
      ]
    },
    {
      "cell_type": "markdown",
      "metadata": {
        "id": "-4zq8Mza_D9O"
      },
      "source": [
        "### Importing the dataset"
      ]
    },
    {
      "cell_type": "code",
      "metadata": {
        "id": "B9CV13Co_HHM"
      },
      "source": [
        "dataset = pd.read_excel('Folds5x2_pp.xlsx')\n",
        "X = dataset.iloc[:, :-1].values\n",
        "y = dataset.iloc[:, -1].values"
      ],
      "execution_count": 6,
      "outputs": []
    },
    {
      "cell_type": "markdown",
      "metadata": {
        "id": "VC6omXel_Up0"
      },
      "source": [
        "### Splitting the dataset into the Training set and Test set"
      ]
    },
    {
      "cell_type": "code",
      "metadata": {
        "id": "L5edeb2r_agx"
      },
      "source": [
        "from sklearn.model_selection import train_test_split\n",
        "X_train, X_test, y_train, y_test = train_test_split(X, y, test_size = 0.2, random_state = 0)"
      ],
      "execution_count": 7,
      "outputs": []
    },
    {
      "cell_type": "markdown",
      "metadata": {
        "id": "_mSLlAT9_eyI"
      },
      "source": [
        "## Part 2 - Building the ANN"
      ]
    },
    {
      "cell_type": "markdown",
      "metadata": {
        "id": "CsBULd_f_wLY"
      },
      "source": [
        "### Initializing the ANN"
      ]
    },
    {
      "cell_type": "code",
      "metadata": {
        "id": "J6Hd97Ls__Nz"
      },
      "source": [
        "ann = tf.keras.models.Sequential()"
      ],
      "execution_count": 8,
      "outputs": []
    },
    {
      "cell_type": "markdown",
      "metadata": {
        "id": "iitAFJS_ABUn"
      },
      "source": [
        "### Adding the input layer and the first hidden layer"
      ]
    },
    {
      "cell_type": "code",
      "metadata": {
        "id": "ksO_Vv40AHix"
      },
      "source": [
        "ann.add(tf.keras.layers.Dense(units=6, activation='relu'))"
      ],
      "execution_count": 9,
      "outputs": []
    },
    {
      "cell_type": "markdown",
      "metadata": {
        "id": "-lb4kK_wAKbs"
      },
      "source": [
        "### Adding the second hidden layer"
      ]
    },
    {
      "cell_type": "code",
      "metadata": {
        "id": "c2357OqEAQOQ"
      },
      "source": [
        "ann.add(tf.keras.layers.Dense(units=6, activation='relu'))"
      ],
      "execution_count": 10,
      "outputs": []
    },
    {
      "cell_type": "markdown",
      "metadata": {
        "id": "jwMOmKb3AdBY"
      },
      "source": [
        "### Adding the output layer"
      ]
    },
    {
      "cell_type": "code",
      "metadata": {
        "id": "YFATpzsUAkLL"
      },
      "source": [
        "ann.add(tf.keras.layers.Dense(units=1))"
      ],
      "execution_count": 11,
      "outputs": []
    },
    {
      "cell_type": "markdown",
      "metadata": {
        "id": "fq7e4fF6A1yy"
      },
      "source": [
        "## Part 3 - Training the ANN"
      ]
    },
    {
      "cell_type": "markdown",
      "metadata": {
        "id": "qDeylAs2An25"
      },
      "source": [
        "### Compiling the ANN"
      ]
    },
    {
      "cell_type": "code",
      "metadata": {
        "id": "pesgbWlCAtB4"
      },
      "source": [
        "ann.compile(optimizer = 'adam', loss = 'mean_squared_error')"
      ],
      "execution_count": 12,
      "outputs": []
    },
    {
      "cell_type": "markdown",
      "metadata": {
        "id": "YjVuiybYOo7r"
      },
      "source": [
        "### Training the ANN model on the Training set"
      ]
    },
    {
      "cell_type": "code",
      "metadata": {
        "id": "c_vV-tiiA5zn",
        "colab": {
          "base_uri": "https://localhost:8080/"
        },
        "outputId": "53b1dee9-c993-43e9-9506-11f9a14603e8"
      },
      "source": [
        "ann.fit(X_train, y_train, batch_size = 32, epochs = 100)"
      ],
      "execution_count": 13,
      "outputs": [
        {
          "output_type": "stream",
          "name": "stdout",
          "text": [
            "Epoch 1/100\n",
            "240/240 [==============================] - 1s 2ms/step - loss: 37716.9766\n",
            "Epoch 2/100\n",
            "240/240 [==============================] - 1s 2ms/step - loss: 278.4000\n",
            "Epoch 3/100\n",
            "240/240 [==============================] - 1s 3ms/step - loss: 269.0693\n",
            "Epoch 4/100\n",
            "240/240 [==============================] - 1s 3ms/step - loss: 257.2764\n",
            "Epoch 5/100\n",
            "240/240 [==============================] - 1s 3ms/step - loss: 243.4136\n",
            "Epoch 6/100\n",
            "240/240 [==============================] - 1s 3ms/step - loss: 228.2429\n",
            "Epoch 7/100\n",
            "240/240 [==============================] - 1s 3ms/step - loss: 211.1101\n",
            "Epoch 8/100\n",
            "240/240 [==============================] - 1s 3ms/step - loss: 193.5350\n",
            "Epoch 9/100\n",
            "240/240 [==============================] - 1s 2ms/step - loss: 175.4747\n",
            "Epoch 10/100\n",
            "240/240 [==============================] - 0s 2ms/step - loss: 156.6840\n",
            "Epoch 11/100\n",
            "240/240 [==============================] - 0s 2ms/step - loss: 138.8702\n",
            "Epoch 12/100\n",
            "240/240 [==============================] - 0s 2ms/step - loss: 121.2969\n",
            "Epoch 13/100\n",
            "240/240 [==============================] - 0s 2ms/step - loss: 105.0855\n",
            "Epoch 14/100\n",
            "240/240 [==============================] - 0s 2ms/step - loss: 90.5315\n",
            "Epoch 15/100\n",
            "240/240 [==============================] - 0s 2ms/step - loss: 77.1344\n",
            "Epoch 16/100\n",
            "240/240 [==============================] - 0s 2ms/step - loss: 65.9411\n",
            "Epoch 17/100\n",
            "240/240 [==============================] - 1s 2ms/step - loss: 56.4118\n",
            "Epoch 18/100\n",
            "240/240 [==============================] - 0s 2ms/step - loss: 49.2213\n",
            "Epoch 19/100\n",
            "240/240 [==============================] - 0s 2ms/step - loss: 43.3287\n",
            "Epoch 20/100\n",
            "240/240 [==============================] - 0s 2ms/step - loss: 39.0101\n",
            "Epoch 21/100\n",
            "240/240 [==============================] - 0s 2ms/step - loss: 35.6847\n",
            "Epoch 22/100\n",
            "240/240 [==============================] - 0s 2ms/step - loss: 33.2264\n",
            "Epoch 23/100\n",
            "240/240 [==============================] - 1s 2ms/step - loss: 31.4856\n",
            "Epoch 24/100\n",
            "240/240 [==============================] - 0s 2ms/step - loss: 30.2266\n",
            "Epoch 25/100\n",
            "240/240 [==============================] - 0s 2ms/step - loss: 29.2084\n",
            "Epoch 26/100\n",
            "240/240 [==============================] - 0s 2ms/step - loss: 28.3833\n",
            "Epoch 27/100\n",
            "240/240 [==============================] - 0s 2ms/step - loss: 27.6084\n",
            "Epoch 28/100\n",
            "240/240 [==============================] - 0s 2ms/step - loss: 27.7345\n",
            "Epoch 29/100\n",
            "240/240 [==============================] - 0s 2ms/step - loss: 27.7186\n",
            "Epoch 30/100\n",
            "240/240 [==============================] - 1s 2ms/step - loss: 26.9271\n",
            "Epoch 31/100\n",
            "240/240 [==============================] - 1s 3ms/step - loss: 27.0780\n",
            "Epoch 32/100\n",
            "240/240 [==============================] - 1s 3ms/step - loss: 26.9172\n",
            "Epoch 33/100\n",
            "240/240 [==============================] - 1s 3ms/step - loss: 26.7587\n",
            "Epoch 34/100\n",
            "240/240 [==============================] - 1s 3ms/step - loss: 26.9670\n",
            "Epoch 35/100\n",
            "240/240 [==============================] - 1s 3ms/step - loss: 27.2696\n",
            "Epoch 36/100\n",
            "240/240 [==============================] - 0s 2ms/step - loss: 27.1628\n",
            "Epoch 37/100\n",
            "240/240 [==============================] - 0s 2ms/step - loss: 27.4103\n",
            "Epoch 38/100\n",
            "240/240 [==============================] - 0s 2ms/step - loss: 27.0974\n",
            "Epoch 39/100\n",
            "240/240 [==============================] - 1s 2ms/step - loss: 26.9814\n",
            "Epoch 40/100\n",
            "240/240 [==============================] - 0s 2ms/step - loss: 27.4793\n",
            "Epoch 41/100\n",
            "240/240 [==============================] - 0s 2ms/step - loss: 26.7909\n",
            "Epoch 42/100\n",
            "240/240 [==============================] - 0s 2ms/step - loss: 27.4016\n",
            "Epoch 43/100\n",
            "240/240 [==============================] - 0s 2ms/step - loss: 26.7517\n",
            "Epoch 44/100\n",
            "240/240 [==============================] - 0s 2ms/step - loss: 26.9377\n",
            "Epoch 45/100\n",
            "240/240 [==============================] - 1s 2ms/step - loss: 26.8586\n",
            "Epoch 46/100\n",
            "240/240 [==============================] - 1s 2ms/step - loss: 27.0350\n",
            "Epoch 47/100\n",
            "240/240 [==============================] - 0s 2ms/step - loss: 27.0915\n",
            "Epoch 48/100\n",
            "240/240 [==============================] - 1s 2ms/step - loss: 26.5785\n",
            "Epoch 49/100\n",
            "240/240 [==============================] - 0s 2ms/step - loss: 26.7171\n",
            "Epoch 50/100\n",
            "240/240 [==============================] - 0s 2ms/step - loss: 27.3223\n",
            "Epoch 51/100\n",
            "240/240 [==============================] - 0s 2ms/step - loss: 27.2457\n",
            "Epoch 52/100\n",
            "240/240 [==============================] - 1s 2ms/step - loss: 26.6195\n",
            "Epoch 53/100\n",
            "240/240 [==============================] - 0s 2ms/step - loss: 27.0292\n",
            "Epoch 54/100\n",
            "240/240 [==============================] - 1s 2ms/step - loss: 26.8313\n",
            "Epoch 55/100\n",
            "240/240 [==============================] - 0s 2ms/step - loss: 26.6825\n",
            "Epoch 56/100\n",
            "240/240 [==============================] - 1s 3ms/step - loss: 26.3505\n",
            "Epoch 57/100\n",
            "240/240 [==============================] - 1s 3ms/step - loss: 27.5508\n",
            "Epoch 58/100\n",
            "240/240 [==============================] - 1s 3ms/step - loss: 26.9672\n",
            "Epoch 59/100\n",
            "240/240 [==============================] - 1s 3ms/step - loss: 27.1041\n",
            "Epoch 60/100\n",
            "240/240 [==============================] - 1s 3ms/step - loss: 26.7093\n",
            "Epoch 61/100\n",
            "240/240 [==============================] - 1s 2ms/step - loss: 26.8286\n",
            "Epoch 62/100\n",
            "240/240 [==============================] - 0s 2ms/step - loss: 26.9169\n",
            "Epoch 63/100\n",
            "240/240 [==============================] - 0s 2ms/step - loss: 26.8752\n",
            "Epoch 64/100\n",
            "240/240 [==============================] - 0s 2ms/step - loss: 27.1053\n",
            "Epoch 65/100\n",
            "240/240 [==============================] - 0s 2ms/step - loss: 26.7444\n",
            "Epoch 66/100\n",
            "240/240 [==============================] - 0s 2ms/step - loss: 26.7391\n",
            "Epoch 67/100\n",
            "240/240 [==============================] - 0s 2ms/step - loss: 26.5028\n",
            "Epoch 68/100\n",
            "240/240 [==============================] - 0s 2ms/step - loss: 27.2539\n",
            "Epoch 69/100\n",
            "240/240 [==============================] - 0s 2ms/step - loss: 26.8423\n",
            "Epoch 70/100\n",
            "240/240 [==============================] - 0s 2ms/step - loss: 26.5414\n",
            "Epoch 71/100\n",
            "240/240 [==============================] - 0s 2ms/step - loss: 26.2421\n",
            "Epoch 72/100\n",
            "240/240 [==============================] - 0s 2ms/step - loss: 26.3435\n",
            "Epoch 73/100\n",
            "240/240 [==============================] - 0s 2ms/step - loss: 26.4381\n",
            "Epoch 74/100\n",
            "240/240 [==============================] - 0s 2ms/step - loss: 26.7145\n",
            "Epoch 75/100\n",
            "240/240 [==============================] - 1s 2ms/step - loss: 27.0995\n",
            "Epoch 76/100\n",
            "240/240 [==============================] - 0s 2ms/step - loss: 26.6048\n",
            "Epoch 77/100\n",
            "240/240 [==============================] - 0s 2ms/step - loss: 26.4660\n",
            "Epoch 78/100\n",
            "240/240 [==============================] - 0s 2ms/step - loss: 27.3656\n",
            "Epoch 79/100\n",
            "240/240 [==============================] - 0s 2ms/step - loss: 26.5841\n",
            "Epoch 80/100\n",
            "240/240 [==============================] - 0s 2ms/step - loss: 26.8729\n",
            "Epoch 81/100\n",
            "240/240 [==============================] - 0s 2ms/step - loss: 27.1171\n",
            "Epoch 82/100\n",
            "240/240 [==============================] - 0s 2ms/step - loss: 26.4485\n",
            "Epoch 83/100\n",
            "240/240 [==============================] - 1s 3ms/step - loss: 26.5772\n",
            "Epoch 84/100\n",
            "240/240 [==============================] - 1s 3ms/step - loss: 26.3583\n",
            "Epoch 85/100\n",
            "240/240 [==============================] - 1s 2ms/step - loss: 26.5137\n",
            "Epoch 86/100\n",
            "240/240 [==============================] - 1s 3ms/step - loss: 26.8878\n",
            "Epoch 87/100\n",
            "240/240 [==============================] - 1s 3ms/step - loss: 26.7527\n",
            "Epoch 88/100\n",
            "240/240 [==============================] - 1s 3ms/step - loss: 26.6991\n",
            "Epoch 89/100\n",
            "240/240 [==============================] - 1s 3ms/step - loss: 26.4777\n",
            "Epoch 90/100\n",
            "240/240 [==============================] - 0s 2ms/step - loss: 26.8217\n",
            "Epoch 91/100\n",
            "240/240 [==============================] - 0s 2ms/step - loss: 26.4978\n",
            "Epoch 92/100\n",
            "240/240 [==============================] - 0s 2ms/step - loss: 26.9929\n",
            "Epoch 93/100\n",
            "240/240 [==============================] - 0s 2ms/step - loss: 26.9914\n",
            "Epoch 94/100\n",
            "240/240 [==============================] - 0s 2ms/step - loss: 26.5482\n",
            "Epoch 95/100\n",
            "240/240 [==============================] - 0s 2ms/step - loss: 26.6019\n",
            "Epoch 96/100\n",
            "240/240 [==============================] - 0s 2ms/step - loss: 26.6806\n",
            "Epoch 97/100\n",
            "240/240 [==============================] - 0s 2ms/step - loss: 26.5311\n",
            "Epoch 98/100\n",
            "240/240 [==============================] - 0s 2ms/step - loss: 26.7273\n",
            "Epoch 99/100\n",
            "240/240 [==============================] - 0s 2ms/step - loss: 27.3251\n",
            "Epoch 100/100\n",
            "240/240 [==============================] - 0s 2ms/step - loss: 26.4129\n"
          ]
        },
        {
          "output_type": "execute_result",
          "data": {
            "text/plain": [
              "<keras.src.callbacks.History at 0x7d8c303dc8e0>"
            ]
          },
          "metadata": {},
          "execution_count": 13
        }
      ]
    },
    {
      "cell_type": "markdown",
      "metadata": {
        "id": "0H0zKKNEBLD5"
      },
      "source": [
        "### Predicting the results of the Test set"
      ]
    },
    {
      "cell_type": "code",
      "metadata": {
        "id": "IA0yApEmBG1X",
        "colab": {
          "base_uri": "https://localhost:8080/"
        },
        "outputId": "ddcc8790-7e0f-4ba9-dc00-05fa876411b7"
      },
      "source": [
        "y_pred = ann.predict(X_test)\n",
        "np.set_printoptions(precision=2)\n",
        "print(np.concatenate((y_pred.reshape(len(y_pred),1), y_test.reshape(len(y_test),1)),1))"
      ],
      "execution_count": 14,
      "outputs": [
        {
          "output_type": "stream",
          "name": "stdout",
          "text": [
            "60/60 [==============================] - 0s 2ms/step\n",
            "[[431.65 431.23]\n",
            " [462.6  460.01]\n",
            " [465.9  461.14]\n",
            " ...\n",
            " [473.37 473.26]\n",
            " [440.12 438.  ]\n",
            " [459.31 463.28]]\n"
          ]
        }
      ]
    }
  ]
}